{
 "cells": [
  {
   "cell_type": "code",
   "execution_count": 1,
   "metadata": {},
   "outputs": [],
   "source": [
    "import numpy as np"
   ]
  },
  {
   "cell_type": "code",
   "execution_count": 2,
   "metadata": {},
   "outputs": [],
   "source": [
    "E=np.array([0,0,-0.47012])\n",
    "A=np.array([-0.02115223,0,-0.4789507])\n",
    "B=np.array([0.0157776,0,-0.4859387])\n",
    "C=np.array([0.0005343,0,-0.475919])\n",
    "D=np.array([-0.0093835,0,-0.5012389])\n",
    "\n",
    "\n",
    "A-=E\n",
    "B-=E\n",
    "C-=E\n",
    "D-=E\n",
    "E-=E"
   ]
  },
  {
   "cell_type": "code",
   "execution_count": 3,
   "metadata": {},
   "outputs": [],
   "source": [
    "x=np.array([E[0],A[0],B[0],C[0],D[0]])\n",
    "z=np.array([E[2],A[2],B[2],C[2],D[2]])"
   ]
  },
  {
   "cell_type": "code",
   "execution_count": 4,
   "metadata": {},
   "outputs": [
    {
     "name": "stdout",
     "output_type": "stream",
     "text": [
      "0.03111890000000006 0.05227113000000006 4\n"
     ]
    }
   ],
   "source": [
    "\n",
    "DIST=max(abs(z))\n",
    "INDEX=np.argmax(abs(z))\n",
    "max_val=DIST+max(abs(x))\n",
    "print(DIST,max_val,INDEX)"
   ]
  },
  {
   "cell_type": "code",
   "execution_count": 7,
   "metadata": {},
   "outputs": [
    {
     "name": "stdout",
     "output_type": "stream",
     "text": [
      "[-0.0093835  0.        -0.0311189]\n"
     ]
    }
   ],
   "source": [
    "print(D)"
   ]
  },
  {
   "cell_type": "code",
   "execution_count": 5,
   "metadata": {},
   "outputs": [],
   "source": [
    "import matplotlib.pyplot as plt"
   ]
  },
  {
   "cell_type": "code",
   "execution_count": 6,
   "metadata": {},
   "outputs": [
    {
     "data": {
      "image/png": "[encoded data removed]",
      "text/plain": [
       "<Figure size 432x288 with 1 Axes>"
      ]
     },
     "metadata": {
      "needs_background": "light"
     },
     "output_type": "display_data"
    }
   ],
   "source": [
    "fig,ax=plt.subplots()\n",
    "\n",
    "circle=plt.Circle((x[INDEX],0),DIST,fill=False)\n",
    "\n",
    "ax.set_aspect(1)\n",
    "ax.add_artist(circle)\n",
    "#ax.axline((0,-max_val),(0,max_val))\n",
    "ax.set_ylim(-max_val, max_val)\n",
    "ax.set_xlim(-max_val, max_val)\n",
    "#ax.axline((-max_val,0),(max_val,0))\n",
    "ax.plot([x[INDEX],x[INDEX]],[z[INDEX],0],c='red')\n",
    "plt.scatter(x,z)\n",
    "\n",
    "plt.show()\n"
   ]
  },
  {
   "cell_type": "code",
   "execution_count": null,
   "metadata": {},
   "outputs": [],
   "source": []
  },
  {
   "cell_type": "code",
   "execution_count": null,
   "metadata": {},
   "outputs": [],
   "source": []
  }
 ],
 "metadata": {
  "kernelspec": {
   "display_name": "Python 3",
   "language": "python",
   "name": "python3"
  },
  "language_info": {
   "codemirror_mode": {
    "name": "ipython",
    "version": 3
   },
   "file_extension": ".py",
   "mimetype": "text/x-python",
   "name": "python",
   "nbconvert_exporter": "python",
   "pygments_lexer": "ipython3",
   "version": "3.8.3"
  }
 },
 "nbformat": 4,
 "nbformat_minor": 4
}
