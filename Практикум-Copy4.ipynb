{
 "cells": [
  {
   "cell_type": "code",
   "execution_count": 1,
   "metadata": {},
   "outputs": [],
   "source": [
    "import numpy as np"
   ]
  },
  {
   "cell_type": "code",
   "execution_count": 2,
   "metadata": {},
   "outputs": [],
   "source": [
    "E=np.array([0,0,-0.4793989])\n",
    "A=np.array([-0.0044933,0,-0.4823476])\n",
    "B=np.array([0.00347329,0,-0.4861203])\n",
    "C=np.array([-0.0001948,0,-0.4818418])\n",
    "D=np.array([-0.0021575,0,-0.4928427])\n",
    "\n",
    "\n",
    "A-=E\n",
    "B-=E\n",
    "C-=E\n",
    "D-=E\n",
    "E-=E"
   ]
  },
  {
   "cell_type": "code",
   "execution_count": 3,
   "metadata": {},
   "outputs": [],
   "source": [
    "x=np.array([E[0],A[0],B[0],C[0],D[0]])\n",
    "z=np.array([E[2],A[2],B[2],C[2],D[2]])"
   ]
  },
  {
   "cell_type": "code",
   "execution_count": 4,
   "metadata": {},
   "outputs": [
    {
     "name": "stdout",
     "output_type": "stream",
     "text": [
      "0.013443800000000006 0.017937100000000004 4\n"
     ]
    }
   ],
   "source": [
    "\n",
    "DIST=max(abs(z))\n",
    "INDEX=np.argmax(abs(z))\n",
    "max_val=DIST+max(abs(x))\n",
    "print(DIST,max_val,INDEX)"
   ]
  },
  {
   "cell_type": "code",
   "execution_count": null,
   "metadata": {},
   "outputs": [],
   "source": []
  },
  {
   "cell_type": "code",
   "execution_count": 5,
   "metadata": {},
   "outputs": [],
   "source": [
    "import matplotlib.pyplot as plt"
   ]
  },
  {
   "cell_type": "code",
   "execution_count": 6,
   "metadata": {},
   "outputs": [
    {
     "data": {
      "image/png": "[encoded data removed]",
      "text/plain": [
       "<Figure size 432x288 with 1 Axes>"
      ]
     },
     "metadata": {
      "needs_background": "light"
     },
     "output_type": "display_data"
    }
   ],
   "source": [
    "fig,ax=plt.subplots()\n",
    "\n",
    "circle=plt.Circle((x[INDEX],0),DIST,fill=False)\n",
    "\n",
    "ax.set_aspect(1)\n",
    "ax.add_artist(circle)\n",
    "#ax.axline((0,-max_val),(0,max_val))\n",
    "ax.set_ylim(-max_val, max_val)\n",
    "ax.set_xlim(-max_val, max_val)\n",
    "#ax.axline((-max_val,0),(max_val,0))\n",
    "ax.plot([x[INDEX],x[INDEX]],[z[INDEX],0],c='red')\n",
    "plt.scatter(x,z)\n",
    "\n",
    "plt.show()\n"
   ]
  },
  {
   "cell_type": "code",
   "execution_count": null,
   "metadata": {},
   "outputs": [],
   "source": []
  },
  {
   "cell_type": "code",
   "execution_count": null,
   "metadata": {},
   "outputs": [],
   "source": []
  }
 ],
 "metadata": {
  "kernelspec": {
   "display_name": "Python 3",
   "language": "python",
   "name": "python3"
  },
  "language_info": {
   "codemirror_mode": {
    "name": "ipython",
    "version": 3
   },
   "file_extension": ".py",
   "mimetype": "text/x-python",
   "name": "python",
   "nbconvert_exporter": "python",
   "pygments_lexer": "ipython3",
   "version": "3.8.3"
  }
 },
 "nbformat": 4,
 "nbformat_minor": 4
}
